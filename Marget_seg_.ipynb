{
 "cells": [
  {
   "cell_type": "code",
   "execution_count": 112,
   "metadata": {},
   "outputs": [],
   "source": [
    "import pandas as pd\n",
    "from sklearn.cluster import KMeans\n",
    "from sklearn.decomposition import PCA\n",
    "from sklearn.preprocessing import StandardScaler\n",
    "from sklearn.metrics import adjusted_rand_score , confusion_matrix , silhouette_score\n",
    "import matplotlib.pyplot as plt\n",
    "import numpy as np\n",
    "from sklearn.mixture import GaussianMixture\n",
    "from sklearn.model_selection import train_test_split\n",
    "from sklearn.linear_model import LinearRegression\n",
    "import seaborn as sns\n",
    "from scipy.cluster.hierarchy import linkage, fcluster\n",
    "from sklearn.tree import DecisionTreeClassifier, plot_tree\n"
   ]
  },
  {
   "cell_type": "code",
   "execution_count": null,
   "metadata": {},
   "outputs": [],
   "source": [
    "df =  pd.read_csv('mcdonalds.csv')\n",
    "df"
   ]
  },
  {
   "cell_type": "code",
   "execution_count": null,
   "metadata": {},
   "outputs": [],
   "source": [
    "# Categorical to binary\n",
    "df[df.iloc[1:11].columns] = df[df.iloc[1:11].columns].apply(lambda x: pd.factorize(x)[0]) \n",
    "print(df)"
   ]
  },
  {
   "cell_type": "code",
   "execution_count": 115,
   "metadata": {},
   "outputs": [],
   "source": [
    "# normalization or scaling data\n",
    "scaler = StandardScaler()\n",
    "scaled_data = scaler.fit_transform(df)"
   ]
  },
  {
   "cell_type": "code",
   "execution_count": null,
   "metadata": {},
   "outputs": [],
   "source": [
    " # Reduce to 2 components\n",
    "pca = PCA(n_components=2) \n",
    "pca_results = pca.fit_transform(scaled_data)\n",
    "\n",
    "pca_df = pd.DataFrame(pca_results, columns=['PC1', 'PC2'])\n",
    "result_df = pd.concat([df, pca_df], axis=1)\n",
    "print(result_df)"
   ]
  },
  {
   "cell_type": "code",
   "execution_count": null,
   "metadata": {},
   "outputs": [],
   "source": [
    "plt.figure(figsize=(8, 6))\n",
    "plt.scatter(pca_df['PC1'], pca_df['PC2'], c='#41a291', edgecolor='#0e455b', s=100)\n",
    "plt.title('visualization of PCA')\n",
    "plt.xlabel('Principal Component 1')\n",
    "plt.ylabel('Principal Component 2')\n",
    "plt.grid(True)\n",
    "plt.show()"
   ]
  },
  {
   "cell_type": "markdown",
   "metadata": {},
   "source": [
    "Clustering using K means"
   ]
  },
  {
   "cell_type": "code",
   "execution_count": null,
   "metadata": {},
   "outputs": [],
   "source": [
    "wss = []  # Store within-cluster sum of squares\n",
    "cluster_range = range(2, 9) #for evaluating different cluster numbers\n",
    "n_boot = 20\n",
    "ari_scores = {k: [] for k in cluster_range}\n",
    "print(ari_scores)"
   ]
  },
  {
   "cell_type": "code",
   "execution_count": null,
   "metadata": {},
   "outputs": [],
   "source": [
    "for k in cluster_range:\n",
    "    kmeans = KMeans(n_clusters=k, n_init=10, random_state=1234)\n",
    "    kmeans.fit(scaled_data)\n",
    "    wss.append(kmeans.inertia_) #kmeans.inertia_ gives wss values\n",
    "print(wss)    "
   ]
  },
  {
   "cell_type": "code",
   "execution_count": null,
   "metadata": {},
   "outputs": [],
   "source": [
    "plt.figure(figsize=(8, 6))\n",
    "plt.plot(cluster_range, wss, marker='o')\n",
    "plt.title('Scree Plot for Optimal Number of Clusters')\n",
    "plt.xlabel('Number of Clusters')\n",
    "plt.ylabel('Within-Cluster Sum of Squares (WSS)')\n",
    "plt.grid(True)\n",
    "plt.show()"
   ]
  },
  {
   "cell_type": "code",
   "execution_count": 125,
   "metadata": {},
   "outputs": [],
   "source": [
    "for k in cluster_range:\n",
    "    kmeans = KMeans(n_clusters=k, n_init=10, random_state=1234)\n",
    "    kmeans.fit(scaled_data)\n",
    "    labels = kmeans.labels_\n",
    "    \n",
    "    # applying bootstrapping\n",
    "    for _ in range(n_boot):\n",
    "        sample_indices = np.random.choice(len(scaled_data), len(scaled_data), replace=True) #selecting random samples\n",
    "        bootstrap_data = scaled_data[sample_indices]\n",
    "        kmeans_bootstrap = KMeans(n_clusters=k, n_init=10, random_state=1234)\n",
    "        kmeans_bootstrap.fit(bootstrap_data)\n",
    "        bootstrap_labels = kmeans_bootstrap.labels_\n",
    "        \n",
    "        # Adjusted Rand Index\n",
    "        ari = adjusted_rand_score(labels[sample_indices], bootstrap_labels)\n",
    "        ari_scores[k].append(ari)\n",
    "\n",
    "# Plot Adjusted Rand Index for Stability\n",
    "mean_ari = [np.mean(ari_scores[k]) for k in cluster_range]\n",
    "\n"
   ]
  },
  {
   "cell_type": "code",
   "execution_count": null,
   "metadata": {},
   "outputs": [],
   "source": [
    "plt.figure(figsize=(8, 6))\n",
    "plt.plot(cluster_range, mean_ari, marker='o')\n",
    "plt.title('Cluster Stability via Bootstrapping')\n",
    "plt.xlabel('Number of Clusters')\n",
    "plt.ylabel('Adjusted Rand Index (ARI)')\n",
    "plt.grid(True)\n",
    "plt.show()\n",
    "# from the figure the optimal number of clusters would be 2\n"
   ]
  },
  {
   "cell_type": "markdown",
   "metadata": {},
   "source": [
    "mixture plots"
   ]
  },
  {
   "cell_type": "code",
   "execution_count": 127,
   "metadata": {},
   "outputs": [],
   "source": [
    "# initialise bic and aic for evaluating optimal clusters\n",
    "bic_scores = []\n",
    "aic_scores = []\n",
    "\n",
    "for k in range(2, 9):  # For k = 2 to 8\n",
    "    gmm = GaussianMixture(n_components=k, random_state=42)\n",
    "    gmm.fit(scaled_data)\n",
    "    \n",
    "    bic_scores.append(gmm.bic(scaled_data))  # BIC\n",
    "    aic_scores.append(gmm.aic(scaled_data))  # AIC\n"
   ]
  },
  {
   "cell_type": "code",
   "execution_count": null,
   "metadata": {},
   "outputs": [],
   "source": [
    "# pltot aic bic scores\n",
    "plt.plot(cluster_range, aic_scores, label=\"AIC\")\n",
    "plt.plot(cluster_range, bic_scores, label=\"BIC\")\n",
    "plt.xlabel(\"Number of Components (k)\")\n",
    "plt.ylabel(\"Information Criteria\")\n",
    "plt.legend()\n",
    "plt.show()"
   ]
  },
  {
   "cell_type": "code",
   "execution_count": null,
   "metadata": {},
   "outputs": [],
   "source": [
    "k = 4  # Assume k=4 for this example\n",
    "best_gmm = GaussianMixture(n_components=k, random_state=42)\n",
    "best_gmm.fit(scaled_data)\n",
    "\n",
    "\n",
    "kmeans = KMeans(n_clusters=k, random_state=42)\n",
    "kmeans.fit(scaled_data)\n",
    "kmeans_clusters = kmeans.labels_\n",
    "\n",
    "# Step 4: Compare the KMeans clusters and GMM mixture clusters\n",
    "gmm_clusters = best_gmm.predict(scaled_data)\n",
    "\n",
    "# Compare clustering results\n",
    "print(\"KMeans vs GMM clustering comparison:\")\n",
    "print(\"KMeans clusters:\", np.unique(kmeans_clusters))\n",
    "print(\"GMM clusters:\", np.unique(gmm_clusters))"
   ]
  },
  {
   "cell_type": "code",
   "execution_count": null,
   "metadata": {},
   "outputs": [],
   "source": [
    "\n",
    "# Contingency table for the new comparison\n",
    "conf_matrix_from_kmeans = confusion_matrix(kmeans_clusters, gmm_clusters)\n",
    "print('confusion matrix for comparison \\n',conf_matrix_from_kmeans)"
   ]
  },
  {
   "cell_type": "markdown",
   "metadata": {},
   "source": [
    "regression model"
   ]
  },
  {
   "cell_type": "code",
   "execution_count": 132,
   "metadata": {},
   "outputs": [],
   "source": [
    "df['Like.n'] = 6 - pd.to_numeric(df['Like'])\n",
    "X = df.iloc[:, 0:11]  # Assuming first 11 columns are your features\n",
    "y = df['Like.n']"
   ]
  },
  {
   "cell_type": "code",
   "execution_count": null,
   "metadata": {},
   "outputs": [],
   "source": [
    "\n",
    "scaler = StandardScaler()\n",
    "X_scaled = scaler.fit_transform(X)\n",
    "gmm = GaussianMixture(n_components=2, random_state=42)\n",
    "gmm_clusters = gmm.fit_predict(X_scaled)  # Predict the clusters\n",
    "\n",
    "df['Cluster'] = gmm_clusters\n",
    "\n",
    "for cluster in np.unique(gmm_clusters):\n",
    "    # Extract data for the current cluster\n",
    "    cluster_data = df[df['Cluster'] == cluster]\n",
    "    X_cluster = cluster_data.iloc[:, 0:11]  # Features for this cluster\n",
    "    X_cluster = scaler.transform(X_cluster)  # Scale the features for the current cluster\n",
    "    y_cluster = cluster_data['Like.n']  # Target variable for this cluster\n",
    "\n",
    "    # Split data into train and test sets\n",
    "    X_train, X_test, y_train, y_test = train_test_split(X_cluster, y_cluster, test_size=0.2, random_state=42)\n",
    "\n",
    "    \n",
    "    model = LinearRegression() \n",
    "    model.fit(X_train, y_train) #fit regression model\n",
    "\n",
    "    y_pred = model.predict(X_test)\n",
    "\n",
    "    # Step 10: Plot the actual vs predicted values for this cluster\n",
    "    plt.scatter(y_test, y_pred)\n",
    "    plt.xlabel('Actual Values')\n",
    "    plt.ylabel('Predicted Values')\n",
    "    plt.title(f'Cluster {cluster} - Actual vs Predicted')\n",
    "    plt.show()\n",
    "\n",
    "    # Compute R-squared for this cluster's regression model\n",
    "    print(f\"Cluster {cluster} R-squared:\", model.score(X_test, y_test))\n",
    "\n",
    "# Optionally, you could use KMeans or other clustering methods as well.\n"
   ]
  },
  {
   "cell_type": "markdown",
   "metadata": {},
   "source": [
    "Segment Profiling"
   ]
  },
  {
   "cell_type": "code",
   "execution_count": null,
   "metadata": {},
   "outputs": [],
   "source": [
    "\n",
    "from scipy.cluster.hierarchy import linkage, fcluster\n",
    "\n",
    "#  Hierarchical Clustering \n",
    "# Use Euclidean distance and perform linkage\n",
    "X = df.drop(['Cluster', 'Like', 'Gender'],axis=1)  # Drop categorical variables\n",
    "distance_matrix = linkage(X, method='ward')\n",
    "\n",
    "# Assign clusters using fcluster (you can change the number of clusters as needed)\n",
    "df['Cluster'] = fcluster(distance_matrix, 4, criterion='maxclust')\n",
    "\n",
    "# plotting bar chart\n",
    "# Visualizing clusters in a bar chart\n",
    "plt.figure(figsize=(10, 6))\n",
    "sns.barplot(x=df['Cluster'].value_counts().index, y=df['Cluster'].value_counts().values, palette=\"viridis\")\n",
    "plt.title('Cluster Distribution')\n",
    "plt.xlabel('Cluster')\n",
    "plt.ylabel('Frequency')\n",
    "plt.show()\n",
    "\n",
    "\n",
    "#   Plotting decision tree\n",
    "# Convert 'Gender' and 'Like' to categorical\n",
    "df['Gender'] = df['Gender'].astype('category')\n",
    "df['Like.n'] = df['Like.n'].astype('category')\n",
    "\n",
    "X = df[['Age', 'VisitFrequency', 'Gender', 'Like.n']]\n",
    "y = df['Cluster'] == 3  \n",
    "\n",
    "# Initialize and train a Decision Tree Classifier\n",
    "clf = DecisionTreeClassifier(max_depth=3)\n",
    "clf.fit(X, y)\n",
    "\n",
    "# Plot the decision tree\n",
    "plt.figure(figsize=(12, 8))\n",
    "plot_tree(clf, filled=True, feature_names=X.columns, class_names=[\"Not Cluster 3\", \"Cluster 3\"])\n",
    "plt.title('Decision Tree for Cluster 3')\n",
    "plt.show()\n"
   ]
  },
  {
   "cell_type": "code",
   "execution_count": null,
   "metadata": {},
   "outputs": [],
   "source": [
    "df.columns"
   ]
  },
  {
   "cell_type": "markdown",
   "metadata": {},
   "source": [
    "Target segments"
   ]
  },
  {
   "cell_type": "code",
   "execution_count": null,
   "metadata": {},
   "outputs": [],
   "source": [
    "\n",
    "# Convert 'Like.n' to numeric if categorical\n",
    "df['Like.n'] = df['Like.n'].map({'Yes': 1, 'No': 0}) \n",
    "\n",
    "# Calculate the mean VisitFrequency for each cluster\n",
    "visit = df.groupby('Cluster')['VisitFrequency'].mean()\n",
    "\n",
    "# Calculate the mean Like.n for each cluster\n",
    "like = df.groupby('Cluster')['Like.n'].mean()\n",
    "\n",
    "# Calculate the mean Female \n",
    "female = (df['Gender'] == 'Female').astype(int).groupby(df['Cluster']).mean()\n",
    "\n",
    "# Print the results\n",
    "print(\"Visit Frequency by Cluster:\",visit)\n",
    "print(\"\\nLike.n by Cluster:\",like)\n",
    "print(\"\\nFemale (as % of Gender) by Cluster:\",female)\n"
   ]
  },
  {
   "cell_type": "code",
   "execution_count": null,
   "metadata": {},
   "outputs": [],
   "source": []
  }
 ],
 "metadata": {
  "kernelspec": {
   "display_name": "Python 3",
   "language": "python",
   "name": "python3"
  },
  "language_info": {
   "codemirror_mode": {
    "name": "ipython",
    "version": 3
   },
   "file_extension": ".py",
   "mimetype": "text/x-python",
   "name": "python",
   "nbconvert_exporter": "python",
   "pygments_lexer": "ipython3",
   "version": "3.10.0"
  }
 },
 "nbformat": 4,
 "nbformat_minor": 2
}
